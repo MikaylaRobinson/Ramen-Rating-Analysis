{
 "cells": [
  {
   "cell_type": "code",
   "execution_count": 79,
   "metadata": {},
   "outputs": [
    {
     "data": {
      "text/html": [
       "<div>\n",
       "<style scoped>\n",
       "    .dataframe tbody tr th:only-of-type {\n",
       "        vertical-align: middle;\n",
       "    }\n",
       "\n",
       "    .dataframe tbody tr th {\n",
       "        vertical-align: top;\n",
       "    }\n",
       "\n",
       "    .dataframe thead th {\n",
       "        text-align: right;\n",
       "    }\n",
       "</style>\n",
       "<table border=\"1\" class=\"dataframe\">\n",
       "  <thead>\n",
       "    <tr style=\"text-align: right;\">\n",
       "      <th></th>\n",
       "      <th>Review #</th>\n",
       "      <th>Brand</th>\n",
       "      <th>Variety</th>\n",
       "      <th>Style</th>\n",
       "      <th>Country</th>\n",
       "      <th>Stars</th>\n",
       "    </tr>\n",
       "  </thead>\n",
       "  <tbody>\n",
       "    <tr>\n",
       "      <th>0</th>\n",
       "      <td>3400</td>\n",
       "      <td>EDO Pack</td>\n",
       "      <td>Kumamoto Flavour Noodles</td>\n",
       "      <td>Cup</td>\n",
       "      <td>Hong Kong</td>\n",
       "      <td>1</td>\n",
       "    </tr>\n",
       "    <tr>\n",
       "      <th>1</th>\n",
       "      <td>3399</td>\n",
       "      <td>Pan Mee</td>\n",
       "      <td>Goreng Dried Chili Shrimp Flavour</td>\n",
       "      <td>Pack</td>\n",
       "      <td>Malaysia</td>\n",
       "      <td>5</td>\n",
       "    </tr>\n",
       "    <tr>\n",
       "      <th>2</th>\n",
       "      <td>3398</td>\n",
       "      <td>Paldo</td>\n",
       "      <td>King Lid Ramen Noodle Soup</td>\n",
       "      <td>Pack</td>\n",
       "      <td>South Korea</td>\n",
       "      <td>5</td>\n",
       "    </tr>\n",
       "    <tr>\n",
       "      <th>3</th>\n",
       "      <td>3397</td>\n",
       "      <td>Nissin Miojo</td>\n",
       "      <td>Cremoso Carno Com Chili</td>\n",
       "      <td>Pack</td>\n",
       "      <td>Brazil</td>\n",
       "      <td>2</td>\n",
       "    </tr>\n",
       "    <tr>\n",
       "      <th>4</th>\n",
       "      <td>3396</td>\n",
       "      <td>Samyang Foods</td>\n",
       "      <td>Cham Ramen Big Bowl</td>\n",
       "      <td>Bowl</td>\n",
       "      <td>South Korea</td>\n",
       "      <td>2.25</td>\n",
       "    </tr>\n",
       "  </tbody>\n",
       "</table>\n",
       "</div>"
      ],
      "text/plain": [
       "   Review #          Brand                            Variety Style  \\\n",
       "0      3400       EDO Pack           Kumamoto Flavour Noodles   Cup   \n",
       "1      3399        Pan Mee  Goreng Dried Chili Shrimp Flavour  Pack   \n",
       "2      3398          Paldo         King Lid Ramen Noodle Soup  Pack   \n",
       "3      3397   Nissin Miojo            Cremoso Carno Com Chili  Pack   \n",
       "4      3396  Samyang Foods                Cham Ramen Big Bowl  Bowl   \n",
       "\n",
       "       Country Stars  \n",
       "0    Hong Kong     1  \n",
       "1     Malaysia     5  \n",
       "2  South Korea     5  \n",
       "3       Brazil     2  \n",
       "4  South Korea  2.25  "
      ]
     },
     "execution_count": 79,
     "metadata": {},
     "output_type": "execute_result"
    }
   ],
   "source": [
    "import pandas as pd\n",
    "\n",
    "df = pd.read_excel (r'/Users/Mikayla/Desktop/RamenSideProject/The-Ramen-Rater-The-Big-List-1-3400-Current-As-Of-Jan-25-2020.xlsx')\n",
    "df.head()"
   ]
  },
  {
   "cell_type": "markdown",
   "metadata": {},
   "source": [
    "# Data Overview\n",
    "I downloaded the dataset from https://www.theramenrater.com/. This includes 3400 reviews by various ramen enthusiasts. For each review, they include the brand, variety of ramen, serving style, country, and the rating out of 5 stars. "
   ]
  },
  {
   "cell_type": "markdown",
   "metadata": {},
   "source": [
    "# Frequencies\n",
    "First, I thought it would be hepful to look at the frequencies for each of the main categories (Brand, Variety, Style, and Country). I wanted to know what kind of overlap existed for reviews of certain ramen vaireties. I also wanted to know the most commonly reviewed style and the country doing the most reviewing. "
   ]
  },
  {
   "cell_type": "markdown",
   "metadata": {},
   "source": [
    "## Styles\n",
    "Packs of ramen are more commonly reviewed, followed by bowl, cup, and tray. When looking at data filtered by style, I will primarily focus on these more common types. "
   ]
  },
  {
   "cell_type": "code",
   "execution_count": 80,
   "metadata": {
    "scrolled": false
   },
   "outputs": [
    {
     "data": {
      "text/plain": [
       "Pack          1948\n",
       "Bowl           655\n",
       "Cup            593\n",
       "Tray           151\n",
       "Box             48\n",
       "Restaurant       3\n",
       "Can              1\n",
       "Bar              1\n",
       "Name: Style, dtype: int64"
      ]
     },
     "execution_count": 80,
     "metadata": {},
     "output_type": "execute_result"
    }
   ],
   "source": [
    "df['Style'].value_counts()"
   ]
  },
  {
   "cell_type": "markdown",
   "metadata": {},
   "source": [
    "## Brands\n",
    "I wanted to look at the most commonly reviewed brands, which met my expectation as I am familiar with the 3 most reviewed brands."
   ]
  },
  {
   "cell_type": "code",
   "execution_count": 81,
   "metadata": {
    "scrolled": false
   },
   "outputs": [
    {
     "data": {
      "text/plain": [
       "Nissin                     460\n",
       "Maruchan                   120\n",
       "Nongshim                   113\n",
       "Myojo                       96\n",
       "Samyang Foods               93\n",
       "Paldo                       76\n",
       "Mama                        71\n",
       "Indomie                     56\n",
       "Sapporo Ichiban             54\n",
       "Ottogi                      48\n",
       "Acecook                     41\n",
       "Maggi                       38\n",
       "KOKA                        36\n",
       "Vifon                       35\n",
       "Lucky Me!                   34\n",
       "Vina Acecook                34\n",
       "MAMA                        30\n",
       "MyKuali                     30\n",
       "Ve Wong                     29\n",
       "Master Kong                 29\n",
       "Mamee                       29\n",
       "Vedan                       28\n",
       "A-Sha Dry Noodle            26\n",
       "Wei Lih                     26\n",
       "JML                         26\n",
       "Wai Wai                     25\n",
       "Yum Yum                     23\n",
       "Wu-Mu                       23\n",
       "Sau Tao                     20\n",
       "Samyang                     19\n",
       "                          ... \n",
       "Seven-Eleven                 1\n",
       "Fukumen                      1\n",
       "Nissin-Miojo                 1\n",
       "US Canning                   1\n",
       "Neko                         1\n",
       "Dongwon                      1\n",
       "Thien Houng Foods            1\n",
       "Pamana                       1\n",
       "Sokensha                     1\n",
       "Takamori                     1\n",
       "Hokkaido Ramen Santouka      1\n",
       "The Bridge                   1\n",
       "Sura                         1\n",
       "Sutah                        1\n",
       "Shun Savory                  1\n",
       "Mazendo                      1\n",
       "Mamee Shinsegae              1\n",
       "Migawon                      1\n",
       "Ichiran Ramen                1\n",
       "Springlife                   1\n",
       "Mie Sedaap                   1\n",
       "Kuro Tetsuya                 1\n",
       "Double Mountain              1\n",
       "Fuji Mengyo                  1\n",
       "Kimura                       1\n",
       "Sunlight                     1\n",
       "Authentically Asian          1\n",
       "Chorip Dong                  1\n",
       "LMF                          1\n",
       "Jongga                       1\n",
       "Name: Brand, Length: 500, dtype: int64"
      ]
     },
     "execution_count": 81,
     "metadata": {},
     "output_type": "execute_result"
    }
   ],
   "source": [
    "df['Brand'].value_counts()"
   ]
  },
  {
   "cell_type": "markdown",
   "metadata": {},
   "source": [
    "## Countries\n",
    "Japan reviews the most ramen on this website, as may be expected with ramen's popularity in Japan. This also made me note some inconsistency on country name. There are small counts incorrectly separated due to United States and USA being counted differently as well as United Kingdom and UK. "
   ]
  },
  {
   "cell_type": "code",
   "execution_count": 82,
   "metadata": {
    "scrolled": true
   },
   "outputs": [
    {
     "data": {
      "text/plain": [
       "Japan             606\n",
       "United States     419\n",
       "South Korea       383\n",
       "Taiwan            351\n",
       "China             217\n",
       "Thailand          208\n",
       "Malaysia          190\n",
       "Hong Kong         159\n",
       "Indonesia         152\n",
       "Singapore         136\n",
       "Vietnam           112\n",
       "UK                 69\n",
       "Canada             56\n",
       "Philippines        51\n",
       "India              41\n",
       "Mexico             32\n",
       "Germany            28\n",
       "Australia          25\n",
       "Brazil             20\n",
       "Netherlands        16\n",
       "Myanmar            14\n",
       "Nepal              14\n",
       "Bangladesh         12\n",
       "Pakistan            9\n",
       "Hungary             9\n",
       "Poland              6\n",
       "Colombia            6\n",
       "Cambodia            5\n",
       "Russia              5\n",
       "Sarawak             5\n",
       "Fiji                4\n",
       "Holland             4\n",
       "France              4\n",
       "Italy               4\n",
       "Peru                3\n",
       "Sweden              3\n",
       "Ukraine             3\n",
       "Finland             3\n",
       "Dubai               3\n",
       "Spain               2\n",
       "Ghana               2\n",
       "Estonia             2\n",
       "Nigeria             2\n",
       "Portugal            1\n",
       "New Zealand         1\n",
       "United Kingdom      1\n",
       "USA                 1\n",
       "Phlippines          1\n",
       "Name: Country, dtype: int64"
      ]
     },
     "execution_count": 82,
     "metadata": {},
     "output_type": "execute_result"
    }
   ],
   "source": [
    "df['Country'].value_counts()"
   ]
  },
  {
   "cell_type": "markdown",
   "metadata": {},
   "source": [
    "## Varieties\n",
    "The counts by variety are not very useful by themselves. They did give me an idea of some slight overlap in varieties. These will be useful as a guideline for later finding if anyone has reviewed the same variety by the same brand. "
   ]
  },
  {
   "cell_type": "code",
   "execution_count": 83,
   "metadata": {
    "scrolled": true
   },
   "outputs": [
    {
     "data": {
      "text/plain": [
       "Beef                                                    7\n",
       "Miso Ramen                                              7\n",
       "Yakisoba                                                7\n",
       "Chicken                                                 7\n",
       "Vegetable                                               6\n",
       "Artificial Chicken                                      6\n",
       "Instant Noodles Chicken Flavour                         4\n",
       "Curry Flavour Instant Noodles                           4\n",
       "Curry Udon                                              4\n",
       "Tempura Soba                                            4\n",
       "Artificial Beef Flavor                                  4\n",
       "Spicy Beef                                              4\n",
       "Instant Noodles Beef Flavour                            4\n",
       "Hot & Spicy Flavour Noodle Soup                         4\n",
       "Tonkotsu Ramen                                          4\n",
       "Chicken Flavor                                          4\n",
       "Chili Chicken Flavour Noodle Soup                       4\n",
       "Artificial Spicy Beef                                   4\n",
       "Miso                                                    3\n",
       "Chicken Abalone Flavour                                 3\n",
       "Okinawa Soba                                            3\n",
       "Imitation Chicken Vegetarian                            3\n",
       "Ramen Bokki                                             3\n",
       "Instant Noodles Vegetable Flavour                       3\n",
       "Tom Yum Shrimp                                          3\n",
       "Mi Chay Vegetarian                                      3\n",
       "Tempura Udon                                            3\n",
       "Soy Sauce                                               3\n",
       "Kitsune Udon                                            3\n",
       "Spicy Chicken                                           3\n",
       "                                                       ..\n",
       "Rice Noodle With Seafood Flavored Soup                  1\n",
       "Chili Pork                                              1\n",
       "Selera Pedas Hot Semur Chicken Flavour                  1\n",
       "Mi Lau Thai Seafood                                     1\n",
       "Tokushima Ramen                                         1\n",
       "Traditional Shallot & Onion Oil Noodle                  1\n",
       "Sapporo Miso Shrimp Ramen                               1\n",
       "Cup Noodle Seafood                                      1\n",
       "RapiFideo Sabor A Tomate Y Pollo                        1\n",
       "Taste Of Malaysia Penang White Curry Ramen              1\n",
       "Mochi Mochi Yakisoba                                    1\n",
       "Goog Good Eat Super Ramen Hot Chili                     1\n",
       "Yakisoba Curry Flavor                                   1\n",
       "Bowl Noodles Chicken Flavor                             1\n",
       "Charumera Shio Ramen                                    1\n",
       "Yakisoba Spicy Vegetable                                1\n",
       "Homestyle Tonjiru                                       1\n",
       "Yukgaejang Beef Ramyun                                  1\n",
       "Dongpo Braised Pork With Hua Diao Liquor                1\n",
       "Chukazanmai Soy Sauce                                   1\n",
       "Chicken Kimchi Oriental Style Noodles With Soup Base    1\n",
       "Snek Mi Perisa BBQ                                      1\n",
       "Yakisoba Noodle                                         1\n",
       "Ramen Noodle Soup Pork Flavor                           1\n",
       "Sabor A Carne Sopa Instantánea Con Fideos               1\n",
       "Basics Instant Noodles Chicken Flavour                  1\n",
       "Veggie Noodle Black Sesame Noodle                       1\n",
       "Instant Noodles Laksa Singapura Flavour                 1\n",
       "Double Bang Thick Beef Broth Noodle                     1\n",
       "Mi Instan Cup Milk Chicken Soup                         1\n",
       "Name: Variety, Length: 3171, dtype: int64"
      ]
     },
     "execution_count": 83,
     "metadata": {},
     "output_type": "execute_result"
    }
   ],
   "source": [
    "df['Variety'].value_counts()"
   ]
  },
  {
   "cell_type": "markdown",
   "metadata": {},
   "source": [
    "# Cleaning the data\n",
    "There are some inconsistent datatypes within the star rating columns. They will influence the ease of aggregate functions later in analysis. Looking at the frequencies of different ratings, I will remove any records with a star rating of datatype 'str'. "
   ]
  },
  {
   "cell_type": "code",
   "execution_count": 84,
   "metadata": {
    "scrolled": true
   },
   "outputs": [
    {
     "data": {
      "text/plain": [
       "5                      593\n",
       "3.75                   499\n",
       "3.5                    486\n",
       "4                      395\n",
       "3.25                   214\n",
       "4.5                    207\n",
       "4.25                   200\n",
       "3                      167\n",
       "2.75                   109\n",
       "2.5                     89\n",
       "2                       89\n",
       "4.75                    88\n",
       "1.5                     48\n",
       "1                       37\n",
       "0                       37\n",
       "2.25                    28\n",
       "1.75                    28\n",
       "0.5                     19\n",
       "0.25                    16\n",
       "1.25                    13\n",
       "NR                       3\n",
       "Unrated                  3\n",
       "2.8                      2\n",
       "3.1                      2\n",
       "1.1                      2\n",
       "2.9                      2\n",
       "4.25/5                   2\n",
       "4.125                    2\n",
       "0.75                     1\n",
       "5/2.5                    1\n",
       "2.125                    1\n",
       "2017-05-05 00:00:00      1\n",
       "3.4                      1\n",
       "2.3                      1\n",
       "3.2                      1\n",
       "1.8                      1\n",
       "0.1                      1\n",
       "3.6                      1\n",
       "2.85                     1\n",
       "2017-04-04 00:00:00      1\n",
       "3.7                      1\n",
       "0.9                      1\n",
       "3.65                     1\n",
       "2017-05-04 00:00:00      1\n",
       "2.1                      1\n",
       "3.5/2.5                  1\n",
       "3.125                    1\n",
       "4.5/5                    1\n",
       "Name: Stars, dtype: int64"
      ]
     },
     "execution_count": 84,
     "metadata": {},
     "output_type": "execute_result"
    }
   ],
   "source": [
    "df['Stars'].value_counts()"
   ]
  },
  {
   "cell_type": "code",
   "execution_count": 85,
   "metadata": {},
   "outputs": [],
   "source": [
    "# Using to_numeric changes the string values to null. All records with a star value are then kept in the df.\n",
    "df = df[pd.to_numeric(df['Stars'], errors='coerce').notnull()]"
   ]
  },
  {
   "cell_type": "code",
   "execution_count": 86,
   "metadata": {},
   "outputs": [
    {
     "data": {
      "text/plain": [
       "5.000    593\n",
       "3.750    499\n",
       "3.500    486\n",
       "4.000    395\n",
       "3.250    214\n",
       "4.500    207\n",
       "4.250    200\n",
       "3.000    167\n",
       "2.750    109\n",
       "2.000     89\n",
       "2.500     89\n",
       "4.750     88\n",
       "1.500     48\n",
       "0.000     37\n",
       "1.000     37\n",
       "2.250     28\n",
       "1.750     28\n",
       "0.500     19\n",
       "0.250     16\n",
       "1.250     13\n",
       "1.100      2\n",
       "4.125      2\n",
       "2.800      2\n",
       "2.900      2\n",
       "3.100      2\n",
       "0.750      1\n",
       "3.400      1\n",
       "3.125      1\n",
       "2.100      1\n",
       "3.650      1\n",
       "0.900      1\n",
       "3.700      1\n",
       "2.850      1\n",
       "3.600      1\n",
       "0.100      1\n",
       "1.800      1\n",
       "3.200      1\n",
       "2.300      1\n",
       "2.125      1\n",
       "Name: Stars, dtype: int64"
      ]
     },
     "execution_count": 86,
     "metadata": {},
     "output_type": "execute_result"
    }
   ],
   "source": [
    "# Checking to make sure the cleaning was sucessful, I have the counts for the remaining unique star rating values.\n",
    "df['Stars'].value_counts()"
   ]
  },
  {
   "cell_type": "markdown",
   "metadata": {},
   "source": [
    "# Deeper Dive into Brands\n",
    "I am looking to answer two main questions in this section. First, what styles are being rated most within each brand? I am interested in how this might skew the brand average ratings depending on what style is the most popular (either inflating or dragging down the brand rating). I am also interested in looking simply at the average ratings for each brand (I will look at brands only with a certain amount of ratings- I want to avoid a brand with one rating coming out on top from one 5 star rating). "
   ]
  },
  {
   "cell_type": "code",
   "execution_count": 93,
   "metadata": {},
   "outputs": [
    {
     "data": {
      "text/html": [
       "<div>\n",
       "<style scoped>\n",
       "    .dataframe tbody tr th:only-of-type {\n",
       "        vertical-align: middle;\n",
       "    }\n",
       "\n",
       "    .dataframe tbody tr th {\n",
       "        vertical-align: top;\n",
       "    }\n",
       "\n",
       "    .dataframe thead th {\n",
       "        text-align: right;\n",
       "    }\n",
       "</style>\n",
       "<table border=\"1\" class=\"dataframe\">\n",
       "  <thead>\n",
       "    <tr style=\"text-align: right;\">\n",
       "      <th></th>\n",
       "      <th>Review #</th>\n",
       "      <th>Brand</th>\n",
       "      <th>Variety</th>\n",
       "      <th>Style</th>\n",
       "      <th>Country</th>\n",
       "      <th>Stars</th>\n",
       "    </tr>\n",
       "  </thead>\n",
       "  <tbody>\n",
       "    <tr>\n",
       "      <th>0</th>\n",
       "      <td>3400</td>\n",
       "      <td>EDO Pack</td>\n",
       "      <td>Kumamoto Flavour Noodles</td>\n",
       "      <td>Cup</td>\n",
       "      <td>Hong Kong</td>\n",
       "      <td>1</td>\n",
       "    </tr>\n",
       "    <tr>\n",
       "      <th>1</th>\n",
       "      <td>3399</td>\n",
       "      <td>Pan Mee</td>\n",
       "      <td>Goreng Dried Chili Shrimp Flavour</td>\n",
       "      <td>Pack</td>\n",
       "      <td>Malaysia</td>\n",
       "      <td>5</td>\n",
       "    </tr>\n",
       "    <tr>\n",
       "      <th>2</th>\n",
       "      <td>3398</td>\n",
       "      <td>Paldo</td>\n",
       "      <td>King Lid Ramen Noodle Soup</td>\n",
       "      <td>Pack</td>\n",
       "      <td>South Korea</td>\n",
       "      <td>5</td>\n",
       "    </tr>\n",
       "    <tr>\n",
       "      <th>3</th>\n",
       "      <td>3397</td>\n",
       "      <td>Nissin Miojo</td>\n",
       "      <td>Cremoso Carno Com Chili</td>\n",
       "      <td>Pack</td>\n",
       "      <td>Brazil</td>\n",
       "      <td>2</td>\n",
       "    </tr>\n",
       "    <tr>\n",
       "      <th>4</th>\n",
       "      <td>3396</td>\n",
       "      <td>Samyang Foods</td>\n",
       "      <td>Cham Ramen Big Bowl</td>\n",
       "      <td>Bowl</td>\n",
       "      <td>South Korea</td>\n",
       "      <td>2.25</td>\n",
       "    </tr>\n",
       "  </tbody>\n",
       "</table>\n",
       "</div>"
      ],
      "text/plain": [
       "   Review #          Brand                            Variety Style  \\\n",
       "0      3400       EDO Pack           Kumamoto Flavour Noodles   Cup   \n",
       "1      3399        Pan Mee  Goreng Dried Chili Shrimp Flavour  Pack   \n",
       "2      3398          Paldo         King Lid Ramen Noodle Soup  Pack   \n",
       "3      3397   Nissin Miojo            Cremoso Carno Com Chili  Pack   \n",
       "4      3396  Samyang Foods                Cham Ramen Big Bowl  Bowl   \n",
       "\n",
       "       Country Stars  \n",
       "0    Hong Kong     1  \n",
       "1     Malaysia     5  \n",
       "2  South Korea     5  \n",
       "3       Brazil     2  \n",
       "4  South Korea  2.25  "
      ]
     },
     "execution_count": 93,
     "metadata": {},
     "output_type": "execute_result"
    }
   ],
   "source": [
    "# The average rating for all reviews\n",
    "df['Stars'].mean()\n",
    "df.head()\n"
   ]
  },
  {
   "cell_type": "code",
   "execution_count": 112,
   "metadata": {},
   "outputs": [
    {
     "data": {
      "text/plain": [
       "Brand\n",
       "1 To 3 Noodles         4.000000\n",
       "7 Select               3.625000\n",
       "7 Select/Nissin        3.500000\n",
       "7-Eleven / Nissin      4.250000\n",
       "A-One                  2.750000\n",
       "A-Sha                  4.525000\n",
       "A-Sha Dry Noodle       4.076923\n",
       "A1                     3.083333\n",
       "ABC                    4.208333\n",
       "Acecook                3.207317\n",
       "Adabi                  3.812500\n",
       "Ah Lai                 4.750000\n",
       "Aji-no-men             3.333333\n",
       "Ajinatori              3.000000\n",
       "Ajinomoto              2.000000\n",
       "Alhami                 3.892857\n",
       "Amianda                3.950000\n",
       "Amino                  3.500000\n",
       "Annie Chun's           3.479167\n",
       "Aroi                   4.500000\n",
       "Asia Gold              3.437500\n",
       "Asian Thai Foods       3.517857\n",
       "Atomy                  4.500000\n",
       "Authentically Asian    1.000000\n",
       "Azami                  1.950000\n",
       "Baijia                 1.250000\n",
       "Baixiang Noodles       3.700000\n",
       "Baltix                 3.500000\n",
       "Bamee                  3.300000\n",
       "Banzai                 3.500000\n",
       "                         ...   \n",
       "Wang                   3.437500\n",
       "Way Premium Foods      4.833333\n",
       "Weh Lih                1.000000\n",
       "Wei Chuan              3.625000\n",
       "Wei Lih                3.730769\n",
       "Wei Wei                3.416667\n",
       "Westbrae               0.500000\n",
       "Western Family         1.708333\n",
       "World O Noodle         4.000000\n",
       "World O' Noodle        4.750000\n",
       "Wu Mu                  3.944444\n",
       "Wu-Mu                  4.065217\n",
       "Wugudaochang           4.204545\n",
       "Xiao Ban Mian          4.312500\n",
       "Xiuhe                  4.250000\n",
       "Yamachan               4.500000\n",
       "Yamadai                3.250000\n",
       "Yamamori               4.625000\n",
       "Yamamoto               4.250000\n",
       "Yatekomo               4.250000\n",
       "Yi Lai Shuen           5.000000\n",
       "Yibin                  0.000000\n",
       "Yum Yum                3.880435\n",
       "Yum-Mie                3.500000\n",
       "Yumei                  2.000000\n",
       "Zombear                4.500000\n",
       "Zow Zow                3.750000\n",
       "iMee                   3.500000\n",
       "iNoodle                3.000000\n",
       "nunu                   3.500000\n",
       "Name: Stars, Length: 499, dtype: float64"
      ]
     },
     "execution_count": 112,
     "metadata": {},
     "output_type": "execute_result"
    }
   ],
   "source": [
    "#The average rating for each brand\n",
    "grouped = pd.to_numeric(df['Stars']).groupby(df['Brand'])\n",
    "grouped.mean()\n",
    "\n"
   ]
  },
  {
   "cell_type": "code",
   "execution_count": 117,
   "metadata": {},
   "outputs": [
    {
     "name": "stdout",
     "output_type": "stream",
     "text": [
      "Brand              Style\n",
      "1 To 3 Noodles     Pack      1\n",
      "7 Select           Bowl      2\n",
      "7 Select/Nissin    Cup       1\n",
      "7-Eleven / Nissin  Cup       1\n",
      "A-One              Cup       4\n",
      "A-Sha              Box       3\n",
      "                   Pack      7\n",
      "A-Sha Dry Noodle   Pack     23\n",
      "                   Tray      3\n",
      "A1                 Pack      3\n",
      "ABC                Cup       6\n",
      "                   Pack      6\n",
      "Acecook            Bowl     13\n",
      "                   Cup      20\n",
      "                   Pack      2\n",
      "                   Tray      6\n",
      "Adabi              Pack      4\n",
      "Ah Lai             Pack      2\n",
      "Aji-no-men         Pack      3\n",
      "Ajinatori          Pack      2\n",
      "Ajinomoto          Cup       1\n",
      "Alhami             Pack      7\n",
      "Amianda            Pack     10\n",
      "Amino              Pack      3\n",
      "Annie Chun's       Bowl      4\n",
      "                   Pack      5\n",
      "                   Tray      3\n",
      "Aroi               Pack      2\n",
      "Asia Gold          Pack      4\n",
      "Asian Thai Foods   Pack     14\n",
      "                            ..\n",
      "Western Family     Cup       3\n",
      "                   Pack      3\n",
      "World O Noodle     Pack      2\n",
      "World O' Noodle    Pack      2\n",
      "Wu Mu              Box       1\n",
      "                   Pack      8\n",
      "Wu-Mu              Pack     23\n",
      "Wugudaochang       Bowl      5\n",
      "                   Pack      6\n",
      "Xiao Ban Mian      Pack      4\n",
      "Xiuhe              Bowl      1\n",
      "Yamachan           Pack     12\n",
      "Yamadai            Bowl      1\n",
      "Yamamori           Pack      2\n",
      "Yamamoto           Bowl      6\n",
      "                   Pack      1\n",
      "Yatekomo           Pack      2\n",
      "Yi Lai Shuen       Pack      1\n",
      "Yibin              Tray      1\n",
      "Yum Yum            Bowl      2\n",
      "                   Cup       6\n",
      "                   Pack     15\n",
      "Yum-Mie            Pack      1\n",
      "Yumei              Bowl      1\n",
      "                   Tray      2\n",
      "Zombear            Pack      1\n",
      "Zow Zow            Pack      1\n",
      "iMee               Pack      4\n",
      "iNoodle            Pack      2\n",
      "nunu               Cup       1\n",
      "Name: Style, Length: 670, dtype: int64\n"
     ]
    }
   ],
   "source": [
    "#The average rating for each brand\n",
    "grouped = df.groupby(['Brand','Style'])['Style'].count()\n",
    "print(grouped)"
   ]
  },
  {
   "cell_type": "markdown",
   "metadata": {},
   "source": [
    "# Deeper dive- Style\n",
    "Do certain styles carry a higher rating than others?"
   ]
  },
  {
   "cell_type": "code",
   "execution_count": 119,
   "metadata": {},
   "outputs": [
    {
     "data": {
      "text/plain": [
       "Style\n",
       "Bar           5.000000\n",
       "Bowl          3.708397\n",
       "Box           4.390625\n",
       "Can           3.500000\n",
       "Cup           3.475759\n",
       "Pack          3.760677\n",
       "Restaurant    3.583333\n",
       "Tray          3.527318\n",
       "Name: Stars, dtype: float64"
      ]
     },
     "execution_count": 119,
     "metadata": {},
     "output_type": "execute_result"
    }
   ],
   "source": [
    "groupedstyle = pd.to_numeric(df['Stars']).groupby(df['Style'])\n",
    "groupedstyle.mean()"
   ]
  },
  {
   "cell_type": "markdown",
   "metadata": {},
   "source": [
    "# Deeper Dive- Country"
   ]
  },
  {
   "cell_type": "code",
   "execution_count": 120,
   "metadata": {},
   "outputs": [
    {
     "data": {
      "text/plain": [
       "Country\n",
       "Australia         3.260000\n",
       "Bangladesh        3.479167\n",
       "Brazil            3.675000\n",
       "Cambodia          4.200000\n",
       "Canada            2.330357\n",
       "China             3.463364\n",
       "Colombia          3.291667\n",
       "Dubai             3.583333\n",
       "Estonia           3.500000\n",
       "Fiji              3.875000\n",
       "Finland           3.583333\n",
       "France            4.187500\n",
       "Germany           3.580357\n",
       "Ghana             3.500000\n",
       "Holland           3.562500\n",
       "Hong Kong         3.794025\n",
       "Hungary           3.611111\n",
       "India             3.371951\n",
       "Indonesia         4.111842\n",
       "Italy             2.750000\n",
       "Japan             3.916045\n",
       "Malaysia          4.166138\n",
       "Mexico            3.609375\n",
       "Myanmar           3.946429\n",
       "Nepal             3.517857\n",
       "Netherlands       2.500000\n",
       "New Zealand       3.000000\n",
       "Nigeria           2.375000\n",
       "Pakistan          2.916667\n",
       "Peru              3.333333\n",
       "Philippines       3.382353\n",
       "Phlippines        3.500000\n",
       "Poland            3.083333\n",
       "Portugal          2.000000\n",
       "Russia            3.450000\n",
       "Sarawak           4.000000\n",
       "Singapore         4.108456\n",
       "South Korea       3.859449\n",
       "Spain             4.250000\n",
       "Sweden            3.250000\n",
       "Taiwan            3.844587\n",
       "Thailand          3.414663\n",
       "UK                2.989130\n",
       "USA               3.250000\n",
       "Ukraine           3.583333\n",
       "United Kingdom    3.500000\n",
       "United States     3.507603\n",
       "Vietnam           3.170089\n",
       "Name: Stars, dtype: float64"
      ]
     },
     "execution_count": 120,
     "metadata": {},
     "output_type": "execute_result"
    }
   ],
   "source": [
    "groupedcountry = pd.to_numeric(df['Stars']).groupby(df['Country'])\n",
    "groupedcountry.mean()"
   ]
  },
  {
   "cell_type": "code",
   "execution_count": null,
   "metadata": {},
   "outputs": [],
   "source": []
  }
 ],
 "metadata": {
  "kernelspec": {
   "display_name": "Python 3",
   "language": "python",
   "name": "python3"
  },
  "language_info": {
   "codemirror_mode": {
    "name": "ipython",
    "version": 3
   },
   "file_extension": ".py",
   "mimetype": "text/x-python",
   "name": "python",
   "nbconvert_exporter": "python",
   "pygments_lexer": "ipython3",
   "version": "3.7.0"
  }
 },
 "nbformat": 4,
 "nbformat_minor": 2
}
