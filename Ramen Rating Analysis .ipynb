{
 "cells": [
  {
   "cell_type": "code",
   "execution_count": 45,
   "metadata": {},
   "outputs": [
    {
     "data": {
      "text/html": [
       "<div>\n",
       "<style scoped>\n",
       "    .dataframe tbody tr th:only-of-type {\n",
       "        vertical-align: middle;\n",
       "    }\n",
       "\n",
       "    .dataframe tbody tr th {\n",
       "        vertical-align: top;\n",
       "    }\n",
       "\n",
       "    .dataframe thead th {\n",
       "        text-align: right;\n",
       "    }\n",
       "</style>\n",
       "<table border=\"1\" class=\"dataframe\">\n",
       "  <thead>\n",
       "    <tr style=\"text-align: right;\">\n",
       "      <th></th>\n",
       "      <th>Review #</th>\n",
       "      <th>Brand</th>\n",
       "      <th>Variety</th>\n",
       "      <th>Style</th>\n",
       "      <th>Country</th>\n",
       "      <th>Stars</th>\n",
       "    </tr>\n",
       "  </thead>\n",
       "  <tbody>\n",
       "    <tr>\n",
       "      <th>0</th>\n",
       "      <td>3400</td>\n",
       "      <td>EDO Pack</td>\n",
       "      <td>Kumamoto Flavour Noodles</td>\n",
       "      <td>Cup</td>\n",
       "      <td>Hong Kong</td>\n",
       "      <td>1</td>\n",
       "    </tr>\n",
       "    <tr>\n",
       "      <th>1</th>\n",
       "      <td>3399</td>\n",
       "      <td>Pan Mee</td>\n",
       "      <td>Goreng Dried Chili Shrimp Flavour</td>\n",
       "      <td>Pack</td>\n",
       "      <td>Malaysia</td>\n",
       "      <td>5</td>\n",
       "    </tr>\n",
       "    <tr>\n",
       "      <th>2</th>\n",
       "      <td>3398</td>\n",
       "      <td>Paldo</td>\n",
       "      <td>King Lid Ramen Noodle Soup</td>\n",
       "      <td>Pack</td>\n",
       "      <td>South Korea</td>\n",
       "      <td>5</td>\n",
       "    </tr>\n",
       "    <tr>\n",
       "      <th>3</th>\n",
       "      <td>3397</td>\n",
       "      <td>Nissin Miojo</td>\n",
       "      <td>Cremoso Carno Com Chili</td>\n",
       "      <td>Pack</td>\n",
       "      <td>Brazil</td>\n",
       "      <td>2</td>\n",
       "    </tr>\n",
       "    <tr>\n",
       "      <th>4</th>\n",
       "      <td>3396</td>\n",
       "      <td>Samyang Foods</td>\n",
       "      <td>Cham Ramen Big Bowl</td>\n",
       "      <td>Bowl</td>\n",
       "      <td>South Korea</td>\n",
       "      <td>2.25</td>\n",
       "    </tr>\n",
       "  </tbody>\n",
       "</table>\n",
       "</div>"
      ],
      "text/plain": [
       "   Review #          Brand                            Variety Style  \\\n",
       "0      3400       EDO Pack           Kumamoto Flavour Noodles   Cup   \n",
       "1      3399        Pan Mee  Goreng Dried Chili Shrimp Flavour  Pack   \n",
       "2      3398          Paldo         King Lid Ramen Noodle Soup  Pack   \n",
       "3      3397   Nissin Miojo            Cremoso Carno Com Chili  Pack   \n",
       "4      3396  Samyang Foods                Cham Ramen Big Bowl  Bowl   \n",
       "\n",
       "       Country Stars  \n",
       "0    Hong Kong     1  \n",
       "1     Malaysia     5  \n",
       "2  South Korea     5  \n",
       "3       Brazil     2  \n",
       "4  South Korea  2.25  "
      ]
     },
     "execution_count": 45,
     "metadata": {},
     "output_type": "execute_result"
    }
   ],
   "source": [
    "%matplotlib inline\n",
    "import pandas as pd\n",
    "import matplotlib.pyplot as plt\n",
    "import numpy as np\n",
    "import seaborn as sns\n",
    "\n",
    "df = pd.read_excel (r'/Users/Mikayla/Desktop/RamenSideProject/The-Ramen-Rater-The-Big-List-1-3400-Current-As-Of-Jan-25-2020.xlsx')\n",
    "df.head()"
   ]
  },
  {
   "cell_type": "markdown",
   "metadata": {},
   "source": [
    "# Data Overview\n",
    "I downloaded the dataset from https://www.theramenrater.com/. This includes 3400 reviews by various ramen enthusiasts. For each review, they include the brand, variety of ramen, serving style, country, and the rating out of 5 stars. "
   ]
  },
  {
   "cell_type": "markdown",
   "metadata": {},
   "source": [
    "# Frequencies\n",
    "First, I thought it would be hepful to look at the frequencies for each of the main categories (Brand, Variety, Style, and Country). I wanted to know what kind of overlap existed for reviews of certain ramen vaireties. I also wanted to know the most commonly reviewed style and the country doing the most reviewing. "
   ]
  },
  {
   "cell_type": "markdown",
   "metadata": {},
   "source": [
    "## Styles\n",
    "Packs of ramen are more commonly reviewed, followed by bowl, cup, and tray. When looking at data filtered by style, I will primarily focus on these more common types. "
   ]
  },
  {
   "cell_type": "code",
   "execution_count": 46,
   "metadata": {
    "scrolled": false
   },
   "outputs": [
    {
     "data": {
      "text/plain": [
       "Pack          1948\n",
       "Bowl           655\n",
       "Cup            593\n",
       "Tray           151\n",
       "Box             48\n",
       "Restaurant       3\n",
       "Can              1\n",
       "Bar              1\n",
       "Name: Style, dtype: int64"
      ]
     },
     "execution_count": 46,
     "metadata": {},
     "output_type": "execute_result"
    }
   ],
   "source": [
    "df['Style'].value_counts()"
   ]
  },
  {
   "cell_type": "markdown",
   "metadata": {},
   "source": [
    "## Brands\n",
    "I wanted to look at the most commonly reviewed brands, which met my expectation as I am familiar with the 3 most reviewed brands."
   ]
  },
  {
   "cell_type": "code",
   "execution_count": 47,
   "metadata": {
    "scrolled": false
   },
   "outputs": [
    {
     "data": {
      "text/plain": [
       "Nissin                                460\n",
       "Maruchan                              120\n",
       "Nongshim                              113\n",
       "Myojo                                  96\n",
       "Samyang Foods                          93\n",
       "Paldo                                  76\n",
       "Mama                                   71\n",
       "Indomie                                56\n",
       "Sapporo Ichiban                        54\n",
       "Ottogi                                 48\n",
       "Acecook                                41\n",
       "Maggi                                  38\n",
       "KOKA                                   36\n",
       "Vifon                                  35\n",
       "Lucky Me!                              34\n",
       "Vina Acecook                           34\n",
       "MyKuali                                30\n",
       "MAMA                                   30\n",
       "Master Kong                            29\n",
       "Ve Wong                                29\n",
       "Mamee                                  29\n",
       "Vedan                                  28\n",
       "Wei Lih                                26\n",
       "JML                                    26\n",
       "A-Sha Dry Noodle                       26\n",
       "Wai Wai                                25\n",
       "Yum Yum                                23\n",
       "Wu-Mu                                  23\n",
       "Sau Tao                                20\n",
       "Samyang                                19\n",
       "                                     ... \n",
       "Tung-I                                  1\n",
       "Hua Feng                                1\n",
       "Kim's Bowl                              1\n",
       "Micoem                                  1\n",
       "Chuanbei                                1\n",
       "Kaset                                   1\n",
       "Authentically Asian                     1\n",
       "Palkin                                  1\n",
       "Daifuku                                 1\n",
       "Sura                                    1\n",
       "Seven-Eleven                            1\n",
       "Banzai                                  1\n",
       "Chongqing Suanlabao Food Co., Ltd.      1\n",
       "No Brand                                1\n",
       "Pamana                                  1\n",
       "Mum Ngon                                1\n",
       "Kizuki Ramen & Izakaya                  1\n",
       "President Rice                          1\n",
       "Choumama                                1\n",
       "Haogemen                                1\n",
       "S&S                                     1\n",
       "Yibin                                   1\n",
       "Saikebon                                1\n",
       "Ichiran Ramen                           1\n",
       "Neko                                    1\n",
       "ORee Garden                             1\n",
       "Lau Liu Tou                             1\n",
       "Curry Prince                            1\n",
       "Tseng Noodle                            1\n",
       "Osaka Ramen                             1\n",
       "Name: Brand, Length: 500, dtype: int64"
      ]
     },
     "execution_count": 47,
     "metadata": {},
     "output_type": "execute_result"
    }
   ],
   "source": [
    "df['Brand'].value_counts()"
   ]
  },
  {
   "cell_type": "markdown",
   "metadata": {},
   "source": [
    "## Countries\n",
    "Japan reviews the most ramen on this website, as may be expected with ramen's popularity in Japan. This also made me note some inconsistency on country name. There are small counts incorrectly separated due to United States and USA being counted differently as well as United Kingdom and UK. "
   ]
  },
  {
   "cell_type": "code",
   "execution_count": 48,
   "metadata": {
    "scrolled": true
   },
   "outputs": [
    {
     "data": {
      "text/plain": [
       "Japan             606\n",
       "United States     419\n",
       "South Korea       383\n",
       "Taiwan            351\n",
       "China             217\n",
       "Thailand          208\n",
       "Malaysia          190\n",
       "Hong Kong         159\n",
       "Indonesia         152\n",
       "Singapore         136\n",
       "Vietnam           112\n",
       "UK                 69\n",
       "Canada             56\n",
       "Philippines        51\n",
       "India              41\n",
       "Mexico             32\n",
       "Germany            28\n",
       "Australia          25\n",
       "Brazil             20\n",
       "Netherlands        16\n",
       "Nepal              14\n",
       "Myanmar            14\n",
       "Bangladesh         12\n",
       "Pakistan            9\n",
       "Hungary             9\n",
       "Poland              6\n",
       "Colombia            6\n",
       "Sarawak             5\n",
       "Russia              5\n",
       "Cambodia            5\n",
       "Fiji                4\n",
       "Holland             4\n",
       "France              4\n",
       "Italy               4\n",
       "Peru                3\n",
       "Ukraine             3\n",
       "Finland             3\n",
       "Dubai               3\n",
       "Sweden              3\n",
       "Nigeria             2\n",
       "Ghana               2\n",
       "Spain               2\n",
       "Estonia             2\n",
       "Phlippines          1\n",
       "Portugal            1\n",
       "USA                 1\n",
       "United Kingdom      1\n",
       "New Zealand         1\n",
       "Name: Country, dtype: int64"
      ]
     },
     "execution_count": 48,
     "metadata": {},
     "output_type": "execute_result"
    }
   ],
   "source": [
    "df['Country'].value_counts()"
   ]
  },
  {
   "cell_type": "markdown",
   "metadata": {},
   "source": [
    "## Varieties\n",
    "The counts by variety are not very useful by themselves. They did give me an idea of some slight overlap in varieties. These will be useful as a guideline for later finding if anyone has reviewed the same variety by the same brand. "
   ]
  },
  {
   "cell_type": "code",
   "execution_count": 49,
   "metadata": {
    "scrolled": true
   },
   "outputs": [
    {
     "data": {
      "text/plain": [
       "Chicken                                                                                          7\n",
       "Beef                                                                                             7\n",
       "Yakisoba                                                                                         7\n",
       "Miso Ramen                                                                                       7\n",
       "Artificial Chicken                                                                               6\n",
       "Vegetable                                                                                        6\n",
       "Curry Udon                                                                                       4\n",
       "Hot & Spicy Flavour Noodle Soup                                                                  4\n",
       "Instant Noodles Beef Flavour                                                                     4\n",
       "Tonkotsu Ramen                                                                                   4\n",
       "Tempura Soba                                                                                     4\n",
       "Artificial Spicy Beef                                                                            4\n",
       "Chili Chicken Flavour Noodle Soup                                                                4\n",
       "Chicken Flavor                                                                                   4\n",
       "Curry Flavour Instant Noodles                                                                    4\n",
       "Spicy Beef                                                                                       4\n",
       "Instant Noodles Chicken Flavour                                                                  4\n",
       "Artificial Beef Flavor                                                                           4\n",
       "Mi Chay Vegetarian                                                                               3\n",
       "Spicy Chicken                                                                                    3\n",
       "Tempura Udon                                                                                     3\n",
       "Shrimp Flavor                                                                                    3\n",
       "Kimchi                                                                                           3\n",
       "Kokomen Spicy Chicken                                                                            3\n",
       "Imitation Chicken Vegetarian                                                                     3\n",
       "Tom Yum Shrimp                                                                                   3\n",
       "Miso                                                                                             3\n",
       "Penang White Curry Noodle                                                                        3\n",
       "Kitsune Udon                                                                                     3\n",
       "Ramen Bokki                                                                                      3\n",
       "                                                                                                ..\n",
       "Cheese Ramyun (for US market)                                                                    1\n",
       "Cup Noodles Stir Fry Teriyaki Beef Flavor                                                        1\n",
       "Supreme Special Beef Carne De Vaca                                                               1\n",
       "Bowl Noodle Savory Lobster (New)                                                                 1\n",
       "U.F.O. Cheese Curry Yakisoba                                                                     1\n",
       "Goreng Dried Curry Flavour                                                                       1\n",
       "Shoyu Ramen                                                                                      1\n",
       "Rangers Snack Noodles Sour Cream Flavour                                                         1\n",
       "Shaoxing Nuerhong Wine Noodles                                                                   1\n",
       "Cup Noodles XO Sauce Seafood                                                                     1\n",
       "Saeutang Sabalmyeon                                                                              1\n",
       "Chicken Flavor Instant Noolde                                                                    1\n",
       "Instant Noodles Seafood Flavour                                                                  1\n",
       "Instant Noodles Mi Goreng Fried Noodles (Taiwan Only Version)                                    1\n",
       "Ramen Japanese Style Quick-Cooking Alimentary Paste With Beef Artificially Flavored Soup Base    1\n",
       "Jjajangmen Chajang Noodle King Bowl                                                              1\n",
       "Supreme Spicy Noodle                                                                             1\n",
       "Penang Red Tom Yum Goong Rice Vermicelli Soup                                                    1\n",
       "Speed King Bowl (Prototype)                                                                      1\n",
       "Indian Curry Flavour                                                                             1\n",
       "Bowl Instant Noodles Artificial Spicy Beef Flavor                                                1\n",
       "Artificial Peppered Beef                                                                         1\n",
       "Seafood Tom Yum Sichek Flavour                                                                   1\n",
       "Noodles Witrh Prawn & Chicken Flavour                                                            1\n",
       "Gigamax Yakisoba                                                                                 1\n",
       "Krrish Instant Noodles Chicken Flavor                                                            1\n",
       "Hao Hao Mi Chay Vegetarian                                                                       1\n",
       "Sichuan Beef Noodle Soup                                                                         1\n",
       "Gold Penang Asam Laksa Bihun                                                                     1\n",
       "Black Eyes Bean Purple Sweet Potato Noodle With Spicy Miso Sauce                                 1\n",
       "Name: Variety, Length: 3171, dtype: int64"
      ]
     },
     "execution_count": 49,
     "metadata": {},
     "output_type": "execute_result"
    }
   ],
   "source": [
    "df['Variety'].value_counts()"
   ]
  },
  {
   "cell_type": "markdown",
   "metadata": {},
   "source": [
    "# Cleaning the data\n",
    "There are some inconsistent datatypes within the star rating columns. They will influence the ease of aggregate functions later in analysis. Looking at the frequencies of different ratings, I will removed any records with a star rating of datatype 'str'. "
   ]
  },
  {
   "cell_type": "code",
   "execution_count": 50,
   "metadata": {
    "scrolled": true
   },
   "outputs": [
    {
     "data": {
      "text/plain": [
       "5                      593\n",
       "3.75                   499\n",
       "3.5                    486\n",
       "4                      395\n",
       "3.25                   214\n",
       "4.5                    207\n",
       "4.25                   200\n",
       "3                      167\n",
       "2.75                   109\n",
       "2                       89\n",
       "2.5                     89\n",
       "4.75                    88\n",
       "1.5                     48\n",
       "1                       37\n",
       "0                       37\n",
       "2.25                    28\n",
       "1.75                    28\n",
       "0.5                     19\n",
       "0.25                    16\n",
       "1.25                    13\n",
       "NR                       3\n",
       "Unrated                  3\n",
       "1.1                      2\n",
       "2.9                      2\n",
       "2.8                      2\n",
       "3.1                      2\n",
       "4.125                    2\n",
       "4.25/5                   2\n",
       "2.3                      1\n",
       "3.2                      1\n",
       "1.8                      1\n",
       "2017-04-04 00:00:00      1\n",
       "4.5/5                    1\n",
       "5/2.5                    1\n",
       "0.75                     1\n",
       "0.1                      1\n",
       "3.65                     1\n",
       "3.7                      1\n",
       "3.6                      1\n",
       "2.85                     1\n",
       "2017-05-05 00:00:00      1\n",
       "0.9                      1\n",
       "2.125                    1\n",
       "3.125                    1\n",
       "2017-05-04 00:00:00      1\n",
       "2.1                      1\n",
       "3.5/2.5                  1\n",
       "3.4                      1\n",
       "Name: Stars, dtype: int64"
      ]
     },
     "execution_count": 50,
     "metadata": {},
     "output_type": "execute_result"
    }
   ],
   "source": [
    "df['Stars'].value_counts()"
   ]
  },
  {
   "cell_type": "code",
   "execution_count": 51,
   "metadata": {},
   "outputs": [],
   "source": [
    "# Using to_numeric changes the string values to null. All records with a star value are then kept in the df.\n",
    "df = df[pd.to_numeric(df['Stars'], errors='coerce').notnull()]"
   ]
  },
  {
   "cell_type": "code",
   "execution_count": 52,
   "metadata": {},
   "outputs": [
    {
     "name": "stdout",
     "output_type": "stream",
     "text": [
      "0.000     37\n",
      "0.100      1\n",
      "0.250     16\n",
      "0.500     19\n",
      "0.750      1\n",
      "0.900      1\n",
      "1.000     37\n",
      "1.100      2\n",
      "1.250     13\n",
      "1.500     48\n",
      "1.750     28\n",
      "1.800      1\n",
      "2.000     89\n",
      "2.100      1\n",
      "2.125      1\n",
      "2.250     28\n",
      "2.300      1\n",
      "2.500     89\n",
      "2.750    109\n",
      "2.800      2\n",
      "2.850      1\n",
      "2.900      2\n",
      "3.000    167\n",
      "3.100      2\n",
      "3.125      1\n",
      "3.200      1\n",
      "3.250    214\n",
      "3.400      1\n",
      "3.500    486\n",
      "3.600      1\n",
      "3.650      1\n",
      "3.700      1\n",
      "3.750    499\n",
      "4.000    395\n",
      "4.125      2\n",
      "4.250    200\n",
      "4.500    207\n",
      "4.750     88\n",
      "5.000    593\n",
      "Name: Stars, dtype: int64\n"
     ]
    }
   ],
   "source": [
    "# Checking to make sure the cleaning was sucessful, I have the counts for the remaining unique star rating values.\n",
    "sortit = df['Stars'].value_counts().sort_index()\n",
    "print(sortit)\n",
    "# All of the star ratings are numeric. It is interesting to see the most common rating is a 5 star rating. "
   ]
  },
  {
   "cell_type": "markdown",
   "metadata": {},
   "source": [
    "# A Few Questions:\n",
    "\n",
    "1. What brands have the best average ratings?\n",
    "2. Do certain styles carry a higher rating than others?\n",
    "3. What styles are being rated most within each brand? \n",
    "4. Do different countries tend to rate things higher or lower?\n"
   ]
  },
  {
   "cell_type": "code",
   "execution_count": 53,
   "metadata": {
    "scrolled": true
   },
   "outputs": [
    {
     "name": "stdout",
     "output_type": "stream",
     "text": [
      "3.699320732427643\n",
      "3.75\n",
      "1.0388730881391854\n",
      "-1.1154874570881803\n"
     ]
    }
   ],
   "source": [
    "# Basic calculations for all review star ratings for comparison. \n",
    "mean = df['Stars'].mean()\n",
    "print(mean)\n",
    "median = df['Stars'].median()\n",
    "print(median)\n",
    "stdev = df['Stars'].std()\n",
    "print(stdev)\n",
    "skew = df['Stars'].skew()\n",
    "print(skew)"
   ]
  },
  {
   "cell_type": "markdown",
   "metadata": {},
   "source": [
    "## What brands have the best average ratings?"
   ]
  },
  {
   "cell_type": "code",
   "execution_count": 54,
   "metadata": {
    "scrolled": true
   },
   "outputs": [
    {
     "data": {
      "text/plain": [
       "Brand\n",
       "Tian Ling Ling                        5.000\n",
       "Prima                                 5.000\n",
       "Fukumen                               5.000\n",
       "Kubota                                5.000\n",
       "Red Chef                              5.000\n",
       "Foodmon                               5.000\n",
       "Torishi                               5.000\n",
       "MyOri                                 5.000\n",
       "Qinsheng                              5.000\n",
       "Eight Field                           5.000\n",
       "Tseng Noodle                          5.000\n",
       "Ebisoba Ichigen                       5.000\n",
       "Qi Shi Liu Ren                        5.000\n",
       "Double Mountain                       5.000\n",
       "Daifuku                               5.000\n",
       "Daddy                                 5.000\n",
       "Neko                                  5.000\n",
       "Three Meters                          5.000\n",
       "The Ramen Rater Select                5.000\n",
       "The Bridge                            5.000\n",
       "Jackpot Teriyaki                      5.000\n",
       "Shin Horng                            5.000\n",
       "Kimura                                5.000\n",
       "Kiki Noodle                           5.000\n",
       "Seven & I                             5.000\n",
       "Jinya Ramen Bar                       5.000\n",
       "Jinanbo                               5.000\n",
       "Song Hak                              5.000\n",
       "Hakubaku                              5.000\n",
       "Lemonilo                              5.000\n",
       "                                      ...  \n",
       "Mie Sedaap                            1.500\n",
       "Lishan                                1.500\n",
       "Tayho                                 1.250\n",
       "Baijia                                1.250\n",
       "Weh Lih                               1.000\n",
       "Guava Story                           1.000\n",
       "Unzen                                 1.000\n",
       "Campbell's                            1.000\n",
       "Nasoya                                1.000\n",
       "China Best                            1.000\n",
       "Authentically Asian                   1.000\n",
       "Westbrae                              0.500\n",
       "Nan Jie Cun                           0.500\n",
       "Unif Tung-I                           0.500\n",
       "Chongqing Suanlabao Food Co., Ltd.    0.250\n",
       "Mitoku                                0.250\n",
       "Crystal Noodle                        0.250\n",
       "Nan Hsing                             0.250\n",
       "Roland                                0.125\n",
       "Simply Asia                           0.000\n",
       "Kim Ve Wong                           0.000\n",
       "Isoyama Shoji                         0.000\n",
       "Bowlfull                              0.000\n",
       "Hsin Tung Yang                        0.000\n",
       "One Dish Asia                         0.000\n",
       "Hikari Miso                           0.000\n",
       "Yibin                                 0.000\n",
       "US Canning                            0.000\n",
       "Dr. McDougall's                       0.000\n",
       "Tiger                                 0.000\n",
       "Name: Stars, Length: 499, dtype: float64"
      ]
     },
     "execution_count": 54,
     "metadata": {},
     "output_type": "execute_result"
    }
   ],
   "source": [
    "#The average rating for each brand (all brands included)\n",
    "grouped = pd.to_numeric(df['Stars']).groupby(df['Brand'])\n",
    "grouped.mean().sort_values(ascending=False)\n"
   ]
  },
  {
   "cell_type": "code",
   "execution_count": 62,
   "metadata": {},
   "outputs": [
    {
     "data": {
      "image/png": "[encoded data removed]",
      "text/plain": [
       "<Figure size 1440x360 with 1 Axes>"
      ]
     },
     "metadata": {
      "needs_background": "light"
     },
     "output_type": "display_data"
    }
   ],
   "source": [
    "# Dataframe containing only reviews for the 10 brands most commonly reviewed\n",
    "commonbrandsdf = df[df['Brand'].isin(brand_list)]\n",
    "\n",
    "#Strip plot showing the distribution of ratings for each of the twn most commonly reviewed brands\n",
    "plt.figure(figsize=(20,5))\n",
    "viz = sns.stripplot(y='Stars', x='Brand', data=commonbrandsdf, jitter=0.2)\n"
   ]
  },
  {
   "cell_type": "code",
   "execution_count": 56,
   "metadata": {
    "scrolled": false
   },
   "outputs": [
    {
     "data": {
      "text/plain": [
       "Brand\n",
       "Samyang Foods      4.095109\n",
       "Indomie            4.089286\n",
       "Paldo              4.016447\n",
       "Nongshim           4.006637\n",
       "Nissin             3.904076\n",
       "Myojo              3.846354\n",
       "Sapporo Ichiban    3.782407\n",
       "Mama               3.628873\n",
       "Maruchan           3.603125\n",
       "Ottogi             3.414894\n",
       "Name: Stars, dtype: float64"
      ]
     },
     "execution_count": 56,
     "metadata": {},
     "output_type": "execute_result"
    }
   ],
   "source": [
    "# Brands with best average rating, limiting to brands with top ten frequencies\n",
    "brands = df['Brand'].value_counts()[:10]\n",
    "branddf = pd.DataFrame(brands)\n",
    "\n",
    "# These are the top 10 most commonly reviewed brands\n",
    "brand_list = branddf.index.tolist()\n",
    "\n",
    "# Dataframe containing only reviews for the 10 brands most commonly reviewed\n",
    "commonbrandsdf = df[df['Brand'].isin(brand_list)]\n",
    "\n",
    "# Calculating the average rating of each brand within this limited df\n",
    "groupedcb = pd.to_numeric(commonbrandsdf['Stars']).groupby(commonbrandsdf['Brand'])\n",
    "groupedcb.mean().sort_values(ascending=False)"
   ]
  },
  {
   "cell_type": "code",
   "execution_count": 57,
   "metadata": {},
   "outputs": [
    {
     "data": {
      "image/png": "[encoded data removed]",
      "text/plain": [
       "<Figure size 432x288 with 1 Axes>"
      ]
     },
     "metadata": {
      "needs_background": "light"
     },
     "output_type": "display_data"
    }
   ],
   "source": [
    "# Creating a Dataframe containing the average rating and number of reviews for each brand\n",
    "grouped = pd.to_numeric(df['Stars']).groupby(df['Brand'])\n",
    "avgrating = grouped.mean().sort_values(ascending=False)\n",
    "counts = df['Brand'].value_counts()\n",
    "freq_vs_rating = avgrating.to_frame().join(counts)\n",
    "freq_vs_rating.rename(columns={'Brand':'Frequency'}, inplace=True)\n",
    "freq_vs_rating.head()\n",
    "\n",
    "# Plotting these values to a scatter plot to see the tendency for review count to influence average rating\n",
    "plt.scatter(freq_vs_rating.Frequency, freq_vs_rating.Stars)\n",
    "plt.xlim(0, 130)\n",
    "plt.title('Review Count vs Rating for each Brand')\n",
    "plt.xlabel('Number of Reviews')\n",
    "plt.ylabel('Average Star Rating')\n",
    "plt.show()"
   ]
  },
  {
   "cell_type": "markdown",
   "metadata": {},
   "source": [
    "## Do certain styles carry a higher rating than others?"
   ]
  },
  {
   "cell_type": "code",
   "execution_count": 58,
   "metadata": {
    "scrolled": true
   },
   "outputs": [
    {
     "data": {
      "text/plain": [
       "Style\n",
       "Bar           5.000000\n",
       "Bowl          3.708397\n",
       "Box           4.390625\n",
       "Can           3.500000\n",
       "Cup           3.475759\n",
       "Pack          3.760677\n",
       "Restaurant    3.583333\n",
       "Tray          3.527318\n",
       "Name: Stars, dtype: float64"
      ]
     },
     "execution_count": 58,
     "metadata": {},
     "output_type": "execute_result"
    }
   ],
   "source": [
    "# Average rating by style\n",
    "groupedstyle = pd.to_numeric(df['Stars']).groupby(df['Style'])\n",
    "groupedstyle.mean()"
   ]
  },
  {
   "cell_type": "markdown",
   "metadata": {},
   "source": [
    "## What styles are being rated most within each brand? "
   ]
  },
  {
   "cell_type": "code",
   "execution_count": 59,
   "metadata": {
    "scrolled": true
   },
   "outputs": [
    {
     "name": "stdout",
     "output_type": "stream",
     "text": [
      "Brand            Style\n",
      "Indomie          Box        1\n",
      "                 Cup        6\n",
      "                 Pack      49\n",
      "Mama             Bowl       4\n",
      "                 Cup       19\n",
      "                 Pack      48\n",
      "Maruchan         Bowl      37\n",
      "                 Cup       28\n",
      "                 Pack      36\n",
      "                 Tray      19\n",
      "Myojo            Bowl      31\n",
      "                 Cup        7\n",
      "                 Pack      41\n",
      "                 Tray      17\n",
      "Nissin           Bowl      85\n",
      "                 Cup      204\n",
      "                 Pack     139\n",
      "                 Tray      32\n",
      "Nongshim         Bowl      33\n",
      "                 Cup       22\n",
      "                 Pack      56\n",
      "                 Tray       2\n",
      "Ottogi           Bowl       8\n",
      "                 Cup        7\n",
      "                 Pack      32\n",
      "Paldo            Bowl      18\n",
      "                 Cup       11\n",
      "                 Pack      42\n",
      "                 Tray       5\n",
      "Samyang Foods    Bowl      28\n",
      "                 Cup        8\n",
      "                 Pack      56\n",
      "Sapporo Ichiban  Bowl      14\n",
      "                 Cup       20\n",
      "                 Pack      16\n",
      "                 Tray       4\n",
      "Name: Style, dtype: int64\n"
     ]
    }
   ],
   "source": [
    "# Counts for each style of ramen within the top 10 most reviewed brands\n",
    "grouped = commonbrandsdf.groupby(['Brand','Style'])['Style'].count()\n",
    "print(grouped)"
   ]
  },
  {
   "cell_type": "markdown",
   "metadata": {},
   "source": [
    "## Do different countries tend to rate things higher or lower?"
   ]
  },
  {
   "cell_type": "code",
   "execution_count": 60,
   "metadata": {},
   "outputs": [
    {
     "data": {
      "text/plain": [
       "Country\n",
       "Spain             4.250000\n",
       "Cambodia          4.200000\n",
       "France            4.187500\n",
       "Malaysia          4.166138\n",
       "Indonesia         4.111842\n",
       "Singapore         4.108456\n",
       "Sarawak           4.000000\n",
       "Myanmar           3.946429\n",
       "Japan             3.916045\n",
       "Fiji              3.875000\n",
       "South Korea       3.859449\n",
       "Taiwan            3.844587\n",
       "Hong Kong         3.794025\n",
       "Brazil            3.675000\n",
       "Hungary           3.611111\n",
       "Mexico            3.609375\n",
       "Ukraine           3.583333\n",
       "Dubai             3.583333\n",
       "Finland           3.583333\n",
       "Germany           3.580357\n",
       "Holland           3.562500\n",
       "Nepal             3.517857\n",
       "United States     3.507603\n",
       "Ghana             3.500000\n",
       "Estonia           3.500000\n",
       "Phlippines        3.500000\n",
       "United Kingdom    3.500000\n",
       "Bangladesh        3.479167\n",
       "China             3.463364\n",
       "Russia            3.450000\n",
       "Thailand          3.414663\n",
       "Philippines       3.382353\n",
       "India             3.371951\n",
       "Peru              3.333333\n",
       "Colombia          3.291667\n",
       "Australia         3.260000\n",
       "Sweden            3.250000\n",
       "USA               3.250000\n",
       "Vietnam           3.170089\n",
       "Poland            3.083333\n",
       "New Zealand       3.000000\n",
       "UK                2.989130\n",
       "Pakistan          2.916667\n",
       "Italy             2.750000\n",
       "Netherlands       2.500000\n",
       "Nigeria           2.375000\n",
       "Canada            2.330357\n",
       "Portugal          2.000000\n",
       "Name: Stars, dtype: float64"
      ]
     },
     "execution_count": 60,
     "metadata": {},
     "output_type": "execute_result"
    }
   ],
   "source": [
    "# Average star rating for each country\n",
    "groupedcountry = pd.to_numeric(df['Stars']).groupby(df['Country'])\n",
    "groupedcountry.mean().sort_values(ascending=False)"
   ]
  },
  {
   "cell_type": "code",
   "execution_count": null,
   "metadata": {},
   "outputs": [],
   "source": []
  }
 ],
 "metadata": {
  "kernelspec": {
   "display_name": "Python 3",
   "language": "python",
   "name": "python3"
  },
  "language_info": {
   "codemirror_mode": {
    "name": "ipython",
    "version": 3
   },
   "file_extension": ".py",
   "mimetype": "text/x-python",
   "name": "python",
   "nbconvert_exporter": "python",
   "pygments_lexer": "ipython3",
   "version": "3.7.0"
  }
 },
 "nbformat": 4,
 "nbformat_minor": 2
}
